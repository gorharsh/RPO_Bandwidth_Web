{
 "cells": [
  {
   "cell_type": "code",
   "execution_count": 1,
   "metadata": {},
   "outputs": [
    {
     "data": {
      "text/plain": [
       "['web.py',\n",
       " 'Untitled.ipynb',\n",
       " 'data.csv',\n",
       " '.gitattributes',\n",
       " 'templates',\n",
       " '.ipynb_checkpoints',\n",
       " 'venv',\n",
       " '.git',\n",
       " 'drbw.py',\n",
       " '.idea']"
      ]
     },
     "execution_count": 1,
     "metadata": {},
     "output_type": "execute_result"
    }
   ],
   "source": [
    "import os\n",
    "os.listdir()"
   ]
  },
  {
   "cell_type": "code",
   "execution_count": 2,
   "metadata": {},
   "outputs": [],
   "source": [
    "import pandas"
   ]
  },
  {
   "cell_type": "code",
   "execution_count": 3,
   "metadata": {},
   "outputs": [],
   "source": [
    "df1 = pandas.read_csv(\"data.csv\")"
   ]
  },
  {
   "cell_type": "code",
   "execution_count": 4,
   "metadata": {},
   "outputs": [
    {
     "data": {
      "text/html": [
       "<div>\n",
       "<style scoped>\n",
       "    .dataframe tbody tr th:only-of-type {\n",
       "        vertical-align: middle;\n",
       "    }\n",
       "\n",
       "    .dataframe tbody tr th {\n",
       "        vertical-align: top;\n",
       "    }\n",
       "\n",
       "    .dataframe thead th {\n",
       "        text-align: right;\n",
       "    }\n",
       "</style>\n",
       "<table border=\"1\" class=\"dataframe\">\n",
       "  <thead>\n",
       "    <tr style=\"text-align: right;\">\n",
       "      <th></th>\n",
       "      <th>S No</th>\n",
       "      <th>Application</th>\n",
       "      <th>capacity</th>\n",
       "      <th>change</th>\n",
       "      <th>rpo</th>\n",
       "      <th>change_gb</th>\n",
       "    </tr>\n",
       "  </thead>\n",
       "  <tbody>\n",
       "    <tr>\n",
       "      <th>0</th>\n",
       "      <td>1</td>\n",
       "      <td>Kaspersky Antivirus</td>\n",
       "      <td>500</td>\n",
       "      <td>0.01</td>\n",
       "      <td>30</td>\n",
       "      <td>NaN</td>\n",
       "    </tr>\n",
       "    <tr>\n",
       "      <th>1</th>\n",
       "      <td>2</td>\n",
       "      <td>VDP_Night</td>\n",
       "      <td>1000</td>\n",
       "      <td>0.02</td>\n",
       "      <td>30</td>\n",
       "      <td>NaN</td>\n",
       "    </tr>\n",
       "    <tr>\n",
       "      <th>2</th>\n",
       "      <td>3</td>\n",
       "      <td>Bacula</td>\n",
       "      <td>1500</td>\n",
       "      <td>0.05</td>\n",
       "      <td>30</td>\n",
       "      <td>NaN</td>\n",
       "    </tr>\n",
       "  </tbody>\n",
       "</table>\n",
       "</div>"
      ],
      "text/plain": [
       "   S No           Application  capacity  change  rpo  change_gb\n",
       "0      1  Kaspersky Antivirus       500    0.01   30        NaN\n",
       "1      2            VDP_Night      1000    0.02   30        NaN\n",
       "2      3               Bacula      1500    0.05   30        NaN"
      ]
     },
     "execution_count": 4,
     "metadata": {},
     "output_type": "execute_result"
    }
   ],
   "source": [
    "df1"
   ]
  },
  {
   "cell_type": "code",
   "execution_count": 5,
   "metadata": {},
   "outputs": [],
   "source": [
    "df2 = df1"
   ]
  },
  {
   "cell_type": "code",
   "execution_count": 6,
   "metadata": {},
   "outputs": [
    {
     "data": {
      "text/html": [
       "<div>\n",
       "<style scoped>\n",
       "    .dataframe tbody tr th:only-of-type {\n",
       "        vertical-align: middle;\n",
       "    }\n",
       "\n",
       "    .dataframe tbody tr th {\n",
       "        vertical-align: top;\n",
       "    }\n",
       "\n",
       "    .dataframe thead th {\n",
       "        text-align: right;\n",
       "    }\n",
       "</style>\n",
       "<table border=\"1\" class=\"dataframe\">\n",
       "  <thead>\n",
       "    <tr style=\"text-align: right;\">\n",
       "      <th></th>\n",
       "      <th>S No</th>\n",
       "      <th>Application</th>\n",
       "      <th>capacity</th>\n",
       "      <th>change</th>\n",
       "      <th>rpo</th>\n",
       "      <th>change_gb</th>\n",
       "    </tr>\n",
       "  </thead>\n",
       "  <tbody>\n",
       "    <tr>\n",
       "      <th>0</th>\n",
       "      <td>1</td>\n",
       "      <td>Kaspersky Antivirus</td>\n",
       "      <td>500</td>\n",
       "      <td>0.01</td>\n",
       "      <td>30</td>\n",
       "      <td>NaN</td>\n",
       "    </tr>\n",
       "    <tr>\n",
       "      <th>1</th>\n",
       "      <td>2</td>\n",
       "      <td>VDP_Night</td>\n",
       "      <td>1000</td>\n",
       "      <td>0.02</td>\n",
       "      <td>30</td>\n",
       "      <td>NaN</td>\n",
       "    </tr>\n",
       "    <tr>\n",
       "      <th>2</th>\n",
       "      <td>3</td>\n",
       "      <td>Bacula</td>\n",
       "      <td>1500</td>\n",
       "      <td>0.05</td>\n",
       "      <td>30</td>\n",
       "      <td>NaN</td>\n",
       "    </tr>\n",
       "  </tbody>\n",
       "</table>\n",
       "</div>"
      ],
      "text/plain": [
       "   S No           Application  capacity  change  rpo  change_gb\n",
       "0      1  Kaspersky Antivirus       500    0.01   30        NaN\n",
       "1      2            VDP_Night      1000    0.02   30        NaN\n",
       "2      3               Bacula      1500    0.05   30        NaN"
      ]
     },
     "execution_count": 6,
     "metadata": {},
     "output_type": "execute_result"
    }
   ],
   "source": [
    "df2"
   ]
  },
  {
   "cell_type": "code",
   "execution_count": 10,
   "metadata": {},
   "outputs": [],
   "source": [
    "df2['change_gb'] = df2['capacity'] * df2['change']\n",
    "df2['bw'] = (df2['change_gb']*8*1000) / (df2['rpo']*60)"
   ]
  },
  {
   "cell_type": "code",
   "execution_count": 11,
   "metadata": {},
   "outputs": [
    {
     "data": {
      "text/html": [
       "<div>\n",
       "<style scoped>\n",
       "    .dataframe tbody tr th:only-of-type {\n",
       "        vertical-align: middle;\n",
       "    }\n",
       "\n",
       "    .dataframe tbody tr th {\n",
       "        vertical-align: top;\n",
       "    }\n",
       "\n",
       "    .dataframe thead th {\n",
       "        text-align: right;\n",
       "    }\n",
       "</style>\n",
       "<table border=\"1\" class=\"dataframe\">\n",
       "  <thead>\n",
       "    <tr style=\"text-align: right;\">\n",
       "      <th></th>\n",
       "      <th>S No</th>\n",
       "      <th>Application</th>\n",
       "      <th>capacity</th>\n",
       "      <th>change</th>\n",
       "      <th>rpo</th>\n",
       "      <th>change_gb</th>\n",
       "      <th>bw</th>\n",
       "    </tr>\n",
       "  </thead>\n",
       "  <tbody>\n",
       "    <tr>\n",
       "      <th>0</th>\n",
       "      <td>1</td>\n",
       "      <td>Kaspersky Antivirus</td>\n",
       "      <td>500</td>\n",
       "      <td>0.01</td>\n",
       "      <td>30</td>\n",
       "      <td>5.0</td>\n",
       "      <td>22.222222</td>\n",
       "    </tr>\n",
       "    <tr>\n",
       "      <th>1</th>\n",
       "      <td>2</td>\n",
       "      <td>VDP_Night</td>\n",
       "      <td>1000</td>\n",
       "      <td>0.02</td>\n",
       "      <td>30</td>\n",
       "      <td>20.0</td>\n",
       "      <td>88.888889</td>\n",
       "    </tr>\n",
       "    <tr>\n",
       "      <th>2</th>\n",
       "      <td>3</td>\n",
       "      <td>Bacula</td>\n",
       "      <td>1500</td>\n",
       "      <td>0.05</td>\n",
       "      <td>30</td>\n",
       "      <td>75.0</td>\n",
       "      <td>333.333333</td>\n",
       "    </tr>\n",
       "  </tbody>\n",
       "</table>\n",
       "</div>"
      ],
      "text/plain": [
       "   S No           Application  capacity  change  rpo  change_gb          bw\n",
       "0      1  Kaspersky Antivirus       500    0.01   30        5.0   22.222222\n",
       "1      2            VDP_Night      1000    0.02   30       20.0   88.888889\n",
       "2      3               Bacula      1500    0.05   30       75.0  333.333333"
      ]
     },
     "execution_count": 11,
     "metadata": {},
     "output_type": "execute_result"
    }
   ],
   "source": [
    "df2"
   ]
  },
  {
   "cell_type": "code",
   "execution_count": 12,
   "metadata": {},
   "outputs": [],
   "source": [
    "df2['fr'] = (df2['capacity']*8*1000)/ df2['bw']"
   ]
  },
  {
   "cell_type": "code",
   "execution_count": 13,
   "metadata": {},
   "outputs": [
    {
     "data": {
      "text/html": [
       "<div>\n",
       "<style scoped>\n",
       "    .dataframe tbody tr th:only-of-type {\n",
       "        vertical-align: middle;\n",
       "    }\n",
       "\n",
       "    .dataframe tbody tr th {\n",
       "        vertical-align: top;\n",
       "    }\n",
       "\n",
       "    .dataframe thead th {\n",
       "        text-align: right;\n",
       "    }\n",
       "</style>\n",
       "<table border=\"1\" class=\"dataframe\">\n",
       "  <thead>\n",
       "    <tr style=\"text-align: right;\">\n",
       "      <th></th>\n",
       "      <th>S No</th>\n",
       "      <th>Application</th>\n",
       "      <th>capacity</th>\n",
       "      <th>change</th>\n",
       "      <th>rpo</th>\n",
       "      <th>change_gb</th>\n",
       "      <th>bw</th>\n",
       "      <th>fr</th>\n",
       "    </tr>\n",
       "  </thead>\n",
       "  <tbody>\n",
       "    <tr>\n",
       "      <th>0</th>\n",
       "      <td>1</td>\n",
       "      <td>Kaspersky Antivirus</td>\n",
       "      <td>500</td>\n",
       "      <td>0.01</td>\n",
       "      <td>30</td>\n",
       "      <td>5.0</td>\n",
       "      <td>22.222222</td>\n",
       "      <td>180000.0</td>\n",
       "    </tr>\n",
       "    <tr>\n",
       "      <th>1</th>\n",
       "      <td>2</td>\n",
       "      <td>VDP_Night</td>\n",
       "      <td>1000</td>\n",
       "      <td>0.02</td>\n",
       "      <td>30</td>\n",
       "      <td>20.0</td>\n",
       "      <td>88.888889</td>\n",
       "      <td>90000.0</td>\n",
       "    </tr>\n",
       "    <tr>\n",
       "      <th>2</th>\n",
       "      <td>3</td>\n",
       "      <td>Bacula</td>\n",
       "      <td>1500</td>\n",
       "      <td>0.05</td>\n",
       "      <td>30</td>\n",
       "      <td>75.0</td>\n",
       "      <td>333.333333</td>\n",
       "      <td>36000.0</td>\n",
       "    </tr>\n",
       "  </tbody>\n",
       "</table>\n",
       "</div>"
      ],
      "text/plain": [
       "   S No           Application  capacity  change  rpo  change_gb          bw  \\\n",
       "0      1  Kaspersky Antivirus       500    0.01   30        5.0   22.222222   \n",
       "1      2            VDP_Night      1000    0.02   30       20.0   88.888889   \n",
       "2      3               Bacula      1500    0.05   30       75.0  333.333333   \n",
       "\n",
       "         fr  \n",
       "0  180000.0  \n",
       "1   90000.0  \n",
       "2   36000.0  "
      ]
     },
     "execution_count": 13,
     "metadata": {},
     "output_type": "execute_result"
    }
   ],
   "source": [
    "df2"
   ]
  },
  {
   "cell_type": "code",
   "execution_count": 14,
   "metadata": {},
   "outputs": [],
   "source": [
    "df3 = df2"
   ]
  },
  {
   "cell_type": "markdown",
   "metadata": {},
   "source": [
    "df2"
   ]
  },
  {
   "cell_type": "code",
   "execution_count": 15,
   "metadata": {},
   "outputs": [
    {
     "data": {
      "text/html": [
       "<div>\n",
       "<style scoped>\n",
       "    .dataframe tbody tr th:only-of-type {\n",
       "        vertical-align: middle;\n",
       "    }\n",
       "\n",
       "    .dataframe tbody tr th {\n",
       "        vertical-align: top;\n",
       "    }\n",
       "\n",
       "    .dataframe thead th {\n",
       "        text-align: right;\n",
       "    }\n",
       "</style>\n",
       "<table border=\"1\" class=\"dataframe\">\n",
       "  <thead>\n",
       "    <tr style=\"text-align: right;\">\n",
       "      <th></th>\n",
       "      <th>S No</th>\n",
       "      <th>Application</th>\n",
       "      <th>capacity</th>\n",
       "      <th>change</th>\n",
       "      <th>rpo</th>\n",
       "      <th>change_gb</th>\n",
       "      <th>bw</th>\n",
       "      <th>fr</th>\n",
       "    </tr>\n",
       "  </thead>\n",
       "  <tbody>\n",
       "    <tr>\n",
       "      <th>0</th>\n",
       "      <td>1</td>\n",
       "      <td>Kaspersky Antivirus</td>\n",
       "      <td>500</td>\n",
       "      <td>0.01</td>\n",
       "      <td>30</td>\n",
       "      <td>5.0</td>\n",
       "      <td>22.222222</td>\n",
       "      <td>180000.0</td>\n",
       "    </tr>\n",
       "    <tr>\n",
       "      <th>1</th>\n",
       "      <td>2</td>\n",
       "      <td>VDP_Night</td>\n",
       "      <td>1000</td>\n",
       "      <td>0.02</td>\n",
       "      <td>30</td>\n",
       "      <td>20.0</td>\n",
       "      <td>88.888889</td>\n",
       "      <td>90000.0</td>\n",
       "    </tr>\n",
       "    <tr>\n",
       "      <th>2</th>\n",
       "      <td>3</td>\n",
       "      <td>Bacula</td>\n",
       "      <td>1500</td>\n",
       "      <td>0.05</td>\n",
       "      <td>30</td>\n",
       "      <td>75.0</td>\n",
       "      <td>333.333333</td>\n",
       "      <td>36000.0</td>\n",
       "    </tr>\n",
       "  </tbody>\n",
       "</table>\n",
       "</div>"
      ],
      "text/plain": [
       "   S No           Application  capacity  change  rpo  change_gb          bw  \\\n",
       "0      1  Kaspersky Antivirus       500    0.01   30        5.0   22.222222   \n",
       "1      2            VDP_Night      1000    0.02   30       20.0   88.888889   \n",
       "2      3               Bacula      1500    0.05   30       75.0  333.333333   \n",
       "\n",
       "         fr  \n",
       "0  180000.0  \n",
       "1   90000.0  \n",
       "2   36000.0  "
      ]
     },
     "execution_count": 15,
     "metadata": {},
     "output_type": "execute_result"
    }
   ],
   "source": [
    "df3"
   ]
  },
  {
   "cell_type": "code",
   "execution_count": 24,
   "metadata": {},
   "outputs": [],
   "source": [
    "df3['fr'] =df3['fr'].astype(float)"
   ]
  },
  {
   "cell_type": "code",
   "execution_count": 30,
   "metadata": {},
   "outputs": [],
   "source": [
    "df3['dd'] = pandas.to_timedelta(df3['fr'], unit='s')"
   ]
  },
  {
   "cell_type": "code",
   "execution_count": 31,
   "metadata": {},
   "outputs": [
    {
     "data": {
      "text/html": [
       "<div>\n",
       "<style scoped>\n",
       "    .dataframe tbody tr th:only-of-type {\n",
       "        vertical-align: middle;\n",
       "    }\n",
       "\n",
       "    .dataframe tbody tr th {\n",
       "        vertical-align: top;\n",
       "    }\n",
       "\n",
       "    .dataframe thead th {\n",
       "        text-align: right;\n",
       "    }\n",
       "</style>\n",
       "<table border=\"1\" class=\"dataframe\">\n",
       "  <thead>\n",
       "    <tr style=\"text-align: right;\">\n",
       "      <th></th>\n",
       "      <th>S No</th>\n",
       "      <th>Application</th>\n",
       "      <th>capacity</th>\n",
       "      <th>change</th>\n",
       "      <th>rpo</th>\n",
       "      <th>change_gb</th>\n",
       "      <th>bw</th>\n",
       "      <th>fr</th>\n",
       "      <th>dd</th>\n",
       "    </tr>\n",
       "  </thead>\n",
       "  <tbody>\n",
       "    <tr>\n",
       "      <th>0</th>\n",
       "      <td>1</td>\n",
       "      <td>Kaspersky Antivirus</td>\n",
       "      <td>500</td>\n",
       "      <td>0.01</td>\n",
       "      <td>30</td>\n",
       "      <td>5.0</td>\n",
       "      <td>22.222222</td>\n",
       "      <td>180000.0</td>\n",
       "      <td>2 days 02:00:00</td>\n",
       "    </tr>\n",
       "    <tr>\n",
       "      <th>1</th>\n",
       "      <td>2</td>\n",
       "      <td>VDP_Night</td>\n",
       "      <td>1000</td>\n",
       "      <td>0.02</td>\n",
       "      <td>30</td>\n",
       "      <td>20.0</td>\n",
       "      <td>88.888889</td>\n",
       "      <td>90000.0</td>\n",
       "      <td>1 days 01:00:00</td>\n",
       "    </tr>\n",
       "    <tr>\n",
       "      <th>2</th>\n",
       "      <td>3</td>\n",
       "      <td>Bacula</td>\n",
       "      <td>1500</td>\n",
       "      <td>0.05</td>\n",
       "      <td>30</td>\n",
       "      <td>75.0</td>\n",
       "      <td>333.333333</td>\n",
       "      <td>36000.0</td>\n",
       "      <td>0 days 10:00:00</td>\n",
       "    </tr>\n",
       "  </tbody>\n",
       "</table>\n",
       "</div>"
      ],
      "text/plain": [
       "   S No           Application  capacity  change  rpo  change_gb          bw  \\\n",
       "0      1  Kaspersky Antivirus       500    0.01   30        5.0   22.222222   \n",
       "1      2            VDP_Night      1000    0.02   30       20.0   88.888889   \n",
       "2      3               Bacula      1500    0.05   30       75.0  333.333333   \n",
       "\n",
       "         fr              dd  \n",
       "0  180000.0 2 days 02:00:00  \n",
       "1   90000.0 1 days 01:00:00  \n",
       "2   36000.0 0 days 10:00:00  "
      ]
     },
     "execution_count": 31,
     "metadata": {},
     "output_type": "execute_result"
    }
   ],
   "source": [
    "df3"
   ]
  },
  {
   "cell_type": "code",
   "execution_count": 32,
   "metadata": {},
   "outputs": [],
   "source": [
    "df3.to_csv('data_out.csv', encoding='utf-8',index=False)"
   ]
  },
  {
   "cell_type": "code",
   "execution_count": null,
   "metadata": {},
   "outputs": [],
   "source": []
  }
 ],
 "metadata": {
  "kernelspec": {
   "display_name": "Python 3",
   "language": "python",
   "name": "python3"
  },
  "language_info": {
   "codemirror_mode": {
    "name": "ipython",
    "version": 3
   },
   "file_extension": ".py",
   "mimetype": "text/x-python",
   "name": "python",
   "nbconvert_exporter": "python",
   "pygments_lexer": "ipython3",
   "version": "3.8.2"
  }
 },
 "nbformat": 4,
 "nbformat_minor": 4
}
